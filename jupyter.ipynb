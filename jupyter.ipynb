{
  "cells": [
    {
      "cell_type": "markdown",
      "source": [
        "## **1 Layer Neural Network**"
      ],
      "metadata": {
        "id": "JyuDUk4SaD-E"
      },
      "id": "JyuDUk4SaD-E"
    },
    {
      "cell_type": "code",
      "source": [
        "import numpy as np\n",
        "X = np.array([ [0,0,1],[0,1,1],[1,0,1],[1,1,1] ])\n",
        "y = np.array([[0,1,1,0]]).T\n",
        "A = 2*np.random.random((3,4)) - 1\n",
        "S = 2*np.random.random((4,1)) - 1\n",
        "for j in range(60000):\n",
        "  l1 = 1/(1+np.exp(-(np.dot(X,A))))\n",
        "  l2 = 1/(1+np.exp(-(np.dot(l1,S))))\n",
        "  l2_delta = (y - l2)*(l2*(1-l2))\n",
        "  l1_delta = l2_delta.dot(S.T) * (l1 * (1-l1))\n",
        "  A += X.T.dot(l1_delta)\n",
        "  S += l1.T.dot(l2_delta)"
      ],
      "metadata": {
        "id": "YjMJ7LMbYbMD"
      },
      "id": "YjMJ7LMbYbMD",
      "execution_count": 6,
      "outputs": []
    },
    {
      "cell_type": "code",
      "source": [
        "print(A)"
      ],
      "metadata": {
        "colab": {
          "base_uri": "https://localhost:8080/"
        },
        "id": "31XdWbcTZdSk",
        "outputId": "cdc9a981-a79a-4c55-b0ff-25c1597cd429"
      },
      "id": "31XdWbcTZdSk",
      "execution_count": 7,
      "outputs": [
        {
          "output_type": "stream",
          "name": "stdout",
          "text": [
            "[[ 7.38364633  5.06844165  1.52243904  0.03756423]\n",
            " [ 7.39688227  5.05364456  1.49704297  0.16008939]\n",
            " [-3.42415651 -7.79181989 -2.4801834   2.57480678]]\n"
          ]
        }
      ]
    },
    {
      "cell_type": "code",
      "source": [
        "print(S)"
      ],
      "metadata": {
        "id": "R9VWhP4GZ0-A",
        "outputId": "81927435-b155-44de-d775-7cebfbfc5466",
        "colab": {
          "base_uri": "https://localhost:8080/"
        }
      },
      "id": "R9VWhP4GZ0-A",
      "execution_count": 8,
      "outputs": [
        {
          "output_type": "stream",
          "name": "stdout",
          "text": [
            "[[ 12.92195488]\n",
            " [-11.40823925]\n",
            " [ -4.10473785]\n",
            " [ -5.75217445]]\n"
          ]
        }
      ]
    },
    {
      "cell_type": "markdown",
      "source": [
        "## **2 Layer Neural Network**"
      ],
      "metadata": {
        "id": "KLajnvsga8FZ"
      },
      "id": "KLajnvsga8FZ"
    },
    {
      "cell_type": "code",
      "source": [
        "#sigmoid func\n",
        "def nonlin(x,deriv=False):\n",
        "  if(deriv==True):\n",
        "    return x*(1-x)\n",
        "  return 1/(1+np.exp(-x))"
      ],
      "metadata": {
        "id": "DEfS4z6OawUZ"
      },
      "id": "DEfS4z6OawUZ",
      "execution_count": 10,
      "outputs": []
    },
    {
      "cell_type": "code",
      "source": [
        "#i/p dataset\n",
        "X = np.array([ [0,0,1],[0,1,1],[1,0,1],[1,1,1] ])\n",
        "y = np.array([[0,1,1,0]]).T\n",
        "\n",
        "#o/p dataset\n",
        "y = np.array([[0,0,1,1]]).T"
      ],
      "metadata": {
        "id": "4lOyneLybPR5"
      },
      "id": "4lOyneLybPR5",
      "execution_count": 13,
      "outputs": []
    },
    {
      "cell_type": "code",
      "source": [
        "# seed random numbers to make calculation\n",
        "# deterministic\n",
        "np.random.seed(1)"
      ],
      "metadata": {
        "id": "M209AvXkbgc8"
      },
      "id": "M209AvXkbgc8",
      "execution_count": 14,
      "outputs": []
    },
    {
      "cell_type": "code",
      "source": [
        "# initialize weights randomly with mean 0\n",
        "A = 2*np.random.random((3,1)) - 1"
      ],
      "metadata": {
        "id": "VYS4kRSBkIY4"
      },
      "id": "VYS4kRSBkIY4",
      "execution_count": 16,
      "outputs": []
    },
    {
      "cell_type": "code",
      "source": [
        "for iter in range(10000):\n",
        "  # forward propagation\n",
        "  l0 = X\n",
        "  l1 = nonlin(np.dot(l0,A))\n",
        "\n",
        "  # how much did we miss?\n",
        "  l1_error = y - l1\n",
        "\n",
        "  # multiply how much we missed by the\n",
        "  # slope of the sigmoid at the values in l1\n",
        "  l1_delta = l1_error * nonlin(l1,True)\n",
        "\n",
        "  #UPDATE WEIGHTS\n",
        "  A = np.dot(l0.T,l1_delta)"
      ],
      "metadata": {
        "id": "OIvpYRsDkKgY"
      },
      "id": "OIvpYRsDkKgY",
      "execution_count": 20,
      "outputs": []
    },
    {
      "cell_type": "code",
      "source": [
        "print (\"Output Ye Hai:\")\n",
        "print (l1)"
      ],
      "metadata": {
        "id": "9NtJPeabkbTD",
        "outputId": "05ade7a7-eb89-4fdc-b442-4c2aad8411a1",
        "colab": {
          "base_uri": "https://localhost:8080/"
        }
      },
      "id": "9NtJPeabkbTD",
      "execution_count": 22,
      "outputs": [
        {
          "output_type": "stream",
          "name": "stdout",
          "text": [
            "Output Ye Hai:\n",
            "[[0.4942777 ]\n",
            " [0.49159967]\n",
            " [0.54999193]\n",
            " [0.54733874]]\n"
          ]
        }
      ]
    },
    {
      "cell_type": "code",
      "source": [],
      "metadata": {
        "id": "lpi4PekK3x1E"
      },
      "id": "lpi4PekK3x1E",
      "execution_count": null,
      "outputs": []
    }
  ],
  "metadata": {
    "kernelspec": {
      "display_name": "Python 3",
      "name": "python3"
    },
    "language_info": {
      "name": "python"
    },
    "required_libs": [],
    "colab": {
      "provenance": []
    }
  },
  "nbformat": 4,
  "nbformat_minor": 5
}